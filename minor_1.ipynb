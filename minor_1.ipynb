{
 "cells": [
  {
   "cell_type": "code",
   "execution_count": 1,
   "id": "0b78de71",
   "metadata": {},
   "outputs": [],
   "source": [
    "from PIL import Image\n",
    "import numpy as np\n",
    "import sys\n",
    "import os\n",
    "import csv\n",
    "import cv2\n",
    "import tensorflow as tf\n"
   ]
  },
  {
   "cell_type": "code",
   "execution_count": 2,
   "id": "17da9894",
   "metadata": {},
   "outputs": [
    {
     "name": "stdout",
     "output_type": "stream",
     "text": [
      "['fifty', 'five', 'fivehundred', 'hundred', 'ten', 'thousand', 'twenty']\n"
     ]
    }
   ],
   "source": [
    "path ='D:\\\\Dataset\\\\archive\\\\dataset\\\\train'\n",
    "myList= os.listdir(path)\n",
    "print(myList)"
   ]
  },
  {
   "cell_type": "code",
   "execution_count": 3,
   "id": "2072fc67",
   "metadata": {},
   "outputs": [
    {
     "name": "stdout",
     "output_type": "stream",
     "text": [
      "7\n"
     ]
    }
   ],
   "source": [
    "noofClasses=len(myList)\n",
    "print(noofClasses)"
   ]
  },
  {
   "cell_type": "code",
   "execution_count": 4,
   "id": "a655ce48",
   "metadata": {},
   "outputs": [],
   "source": [
    "paths = ['D:\\\\Dataset\\\\archive\\\\dataset\\\\train\\\\fifty',\n",
    "         'D:\\\\Dataset\\\\archive\\\\dataset\\\\train\\\\five',\n",
    "         'D:\\\\Dataset\\\\archive\\\\dataset\\\\train\\\\fivehundred',\n",
    "         'D:\\\\Dataset\\\\archive\\\\dataset\\\\train\\\\hundred', \n",
    "         'D:\\\\Dataset\\\\archive\\\\dataset\\\\train\\\\ten',\n",
    "         'D:\\\\Dataset\\\\archive\\\\dataset\\\\train\\\\thousand',\n",
    "         'D:\\\\Dataset\\\\archive\\\\dataset\\\\train\\\\twenty']\n",
    "images = []\n",
    "classNo = []\n"
   ]
  },
  {
   "cell_type": "code",
   "execution_count": 5,
   "id": "e0c51f03",
   "metadata": {},
   "outputs": [],
   "source": [
    "# for x in range (0, noofClasses):\n",
    "#    PicList = os.listdir(paths[x])\n",
    "        \n",
    "#    for y in PicList:\n",
    "#     Img = cv2.imread(paths[x]+\"/\"+y)\n",
    "    \n",
    "#     Img = cv2.resize(Img, (32,32))\n",
    "#     images.append(Img)\n",
    "#     classNo.append(x)\n",
    "#    print (x)\n",
    "           \n",
    "           \n",
    "# print(len(images))"
   ]
  },
  {
   "cell_type": "code",
   "execution_count": 6,
   "id": "33b8f3db",
   "metadata": {},
   "outputs": [],
   "source": [
    "# images = np.array(images)\n",
    "# classNo = np.array(classNo)\n"
   ]
  },
  {
   "cell_type": "code",
   "execution_count": 7,
   "id": "8da8fa6a",
   "metadata": {},
   "outputs": [],
   "source": [
    "# savepath1= 'D:\\\\Saved\\\\image.npy'\n",
    "# savepath2='D:\\\\Saved\\\\classn.npy'\n",
    "# np.save(savepath1,images)\n",
    "# np.save(savepath2,classNo)"
   ]
  },
  {
   "cell_type": "code",
   "execution_count": 8,
   "id": "c5abf430",
   "metadata": {},
   "outputs": [],
   "source": [
    "savepath1= 'D:\\\\Saved\\\\image.npy'\n",
    "savepath2='D:\\\\Saved\\\\classn.npy'\n",
    "images = np.load(savepath1, allow_pickle=True)\n",
    "classNo=np.load(savepath2,allow_pickle=True)"
   ]
  },
  {
   "cell_type": "code",
   "execution_count": 9,
   "id": "df5dac72",
   "metadata": {},
   "outputs": [
    {
     "name": "stdout",
     "output_type": "stream",
     "text": [
      "(16812, 32, 32, 3)\n",
      "(16812,)\n"
     ]
    }
   ],
   "source": [
    "print(images.shape)\n",
    "print(classNo.shape)"
   ]
  },
  {
   "cell_type": "code",
   "execution_count": 10,
   "id": "15befb92",
   "metadata": {},
   "outputs": [],
   "source": [
    "validpaths = ['D:\\\\Dataset\\\\archive\\\\dataset\\\\valid\\\\fifty',\n",
    "         'D:\\\\Dataset\\\\archive\\\\dataset\\\\valid\\\\five',\n",
    "         'D:\\\\Dataset\\\\archive\\\\dataset\\\\valid\\\\fivehundred',\n",
    "         'D:\\\\Dataset\\\\archive\\\\dataset\\\\valid\\\\hundred', \n",
    "         'D:\\\\Dataset\\\\archive\\\\dataset\\\\valid\\\\ten',\n",
    "         'D:\\\\Dataset\\\\archive\\\\dataset\\\\valid\\\\thousand',\n",
    "         'D:\\\\Dataset\\\\archive\\\\dataset\\\\valid\\\\twenty']\n",
    "valimages = []\n",
    "valclassNo = []\n"
   ]
  },
  {
   "cell_type": "code",
   "execution_count": 11,
   "id": "4281899d",
   "metadata": {},
   "outputs": [],
   "source": [
    "# for x in range (0, noofClasses):\n",
    "#    valPicList = os.listdir(validpaths[x])\n",
    "\n",
    "#    for y in valPicList:\n",
    "#        curImg = cv2.imread(validpaths[x]+\"/\"+y)\n",
    "#        curImg = cv2.resize(curImg, (32,32))\n",
    "#        valimages.append(curImg)\n",
    "#        valclassNo.append(x)\n",
    "#     print (x)\n",
    "# print(len(valimages))"
   ]
  },
  {
   "cell_type": "code",
   "execution_count": 12,
   "id": "dd4e0cc0",
   "metadata": {},
   "outputs": [],
   "source": [
    "#savepath3= 'D:\\\\Saved\\\\valimage.npy'\n",
    "#savepath4='D:\\\\Saved\\\\valclassn.npy'\n",
    "#np.save(savepath3,valimages)\n",
    "#np.save(savepath4,valclassNo)"
   ]
  },
  {
   "cell_type": "code",
   "execution_count": 13,
   "id": "309daa3e",
   "metadata": {},
   "outputs": [],
   "source": [
    "savepath3= 'D:\\\\Saved\\\\valimage.npy'\n",
    "savepath4='D:\\\\Saved\\\\valclassn.npy'\n",
    "valimages = np.load(savepath3, allow_pickle=True)\n",
    "valclassNo=np.load(savepath4,allow_pickle=True)"
   ]
  },
  {
   "cell_type": "code",
   "execution_count": 14,
   "id": "d6c49533",
   "metadata": {},
   "outputs": [
    {
     "name": "stdout",
     "output_type": "stream",
     "text": [
      "(3334, 32, 32, 3)\n",
      "(3334,)\n"
     ]
    }
   ],
   "source": [
    "valimages = np.array(valimages)\n",
    "valclassNo = np.array(valclassNo)\n",
    "print(valimages.shape)\n",
    "print(valclassNo.shape)"
   ]
  },
  {
   "cell_type": "code",
   "execution_count": 15,
   "id": "11736c62",
   "metadata": {},
   "outputs": [],
   "source": [
    "#Splitting the data into training and validation\n",
    "from sklearn.model_selection import train_test_split\n",
    "testRatio = 0.2"
   ]
  },
  {
   "cell_type": "code",
   "execution_count": 16,
   "id": "4428f2c5",
   "metadata": {},
   "outputs": [
    {
     "name": "stdout",
     "output_type": "stream",
     "text": [
      "(3334, 32, 32, 3)\n",
      "(3334,)\n"
     ]
    }
   ],
   "source": [
    "X_valid, y_valid= valimages, valclassNo\n",
    "print(X_valid.shape)\n",
    "print(y_valid.shape)\n",
    "\n"
   ]
  },
  {
   "cell_type": "code",
   "execution_count": 17,
   "id": "d6863d18",
   "metadata": {},
   "outputs": [
    {
     "name": "stdout",
     "output_type": "stream",
     "text": [
      "(13449, 32, 32, 3)\n",
      "(3363, 32, 32, 3)\n",
      "(13449,)\n",
      "(3363,)\n"
     ]
    }
   ],
   "source": [
    "X_train,X_test, y_train,y_test = train_test_split(images,classNo,test_size=testRatio,random_state=1)\n",
    "print(X_train.shape)\n",
    "print(X_test.shape)\n",
    "print(y_train.shape)\n",
    "print(y_test.shape)"
   ]
  },
  {
   "cell_type": "code",
   "execution_count": 18,
   "id": "fc0c4e02",
   "metadata": {},
   "outputs": [
    {
     "name": "stdout",
     "output_type": "stream",
     "text": [
      "[2071, 1380, 1894, 1980, 2178, 1937, 2009]\n"
     ]
    }
   ],
   "source": [
    "numofSamples =[]\n",
    "for x in range (0, noofClasses):\n",
    "    #print(len(np.where(y_train==x)[0]))\n",
    "    #print(len(np.where(y_test==x)[0]))\n",
    "    #print(len(np.where(y_valid==x)[0]))\n",
    "    numofSamples.append(len(np.where(y_train==x)[0]))\n",
    "print(numofSamples)\n",
    "#print(y_train)\n",
    "#print(len(np.where(y_train==0)[0]))\n",
    "#print(y_train[0])\n"
   ]
  },
  {
   "cell_type": "code",
   "execution_count": 19,
   "id": "5ac0cfa0",
   "metadata": {},
   "outputs": [],
   "source": [
    "#plotting the sdistribution\n",
    "import matplotlib.pyplot as plt"
   ]
  },
  {
   "cell_type": "code",
   "execution_count": 20,
   "id": "efdd9dc3",
   "metadata": {},
   "outputs": [
    {
     "data": {
      "image/png": "[encoded data removed]",
      "text/plain": [
       "<Figure size 720x360 with 1 Axes>"
      ]
     },
     "metadata": {
      "needs_background": "light"
     },
     "output_type": "display_data"
    }
   ],
   "source": [
    "plt.figure(figsize=(10,5))\n",
    "plt.bar(range(0, noofClasses), numofSamples)\n",
    "plt.title(\"No of images for each class\")\n",
    "plt.xlabel(\"Class ID\")\n",
    "plt.ylabel(\"No of Images\")\n",
    "plt.show()"
   ]
  },
  {
   "cell_type": "code",
   "execution_count": 21,
   "id": "e6d57657",
   "metadata": {},
   "outputs": [],
   "source": [
    "#PreProcessing Function\n",
    "def preProcessing(img):\n",
    "    img=cv2.cvtColor(img,cv2.COLOR_BGR2GRAY)\n",
    "    img=cv2.equalizeHist(img)\n",
    "    img=img/255\n",
    "    return img\n"
   ]
  },
  {
   "cell_type": "code",
   "execution_count": 22,
   "id": "7e11ad7a",
   "metadata": {},
   "outputs": [],
   "source": [
    "#img= X_train[0]\n",
    "#img=cv2.resize(img,(300,300))\n",
    "#cv2.imshow(\"Preprocessed\",img)\n",
    "#cv2.waitKey(0)\n",
    "X_train= np.array(list(map(preProcessing, X_train)))\n",
    "X_test= np.array(list(map(preProcessing, X_test)))\n",
    "X_valid= np.array(list(map(preProcessing, X_valid)))\n"
   ]
  },
  {
   "cell_type": "code",
   "execution_count": 23,
   "id": "c83243f1",
   "metadata": {},
   "outputs": [
    {
     "name": "stdout",
     "output_type": "stream",
     "text": [
      "(13449, 32, 32, 1)\n",
      "(3363, 32, 32, 1)\n",
      "(3334,)\n"
     ]
    }
   ],
   "source": [
    "\n",
    "X_train = X_train.reshape(X_train.shape[0],X_train.shape[1],X_train.shape[2],1)\n",
    "X_test = X_test.reshape(X_test.shape[0],X_test.shape[1],X_test.shape[2],1)\n",
    "X_valid = X_valid.reshape(X_valid.shape[0],X_valid.shape[1],X_valid.shape[2],1)\n",
    "print(X_train.shape)\n",
    "print(X_test.shape)\n",
    "print(y_valid.shape)"
   ]
  },
  {
   "cell_type": "code",
   "execution_count": 24,
   "id": "d18f98d9",
   "metadata": {},
   "outputs": [],
   "source": [
    "from tensorflow import keras\n",
    "from keras.preprocessing.image import ImageDataGenerator\n",
    "from keras.models import Sequential\n",
    "from keras.layers import Dense, Flatten, Conv2D, MaxPooling2D,Dropout\n",
    "from keras.losses import sparse_categorical_crossentropy\n",
    "from tensorflow.keras.optimizers import Adam"
   ]
  },
  {
   "cell_type": "code",
   "execution_count": 25,
   "id": "85b37a7f",
   "metadata": {},
   "outputs": [],
   "source": [
    "# dataGen = ImageDataGenerator(width_shift_range=0.1,\n",
    "#                             height_shift_range=0.1,\n",
    "#                             zoom_range=0.2,\n",
    "#                             shear_range=0.1,\n",
    "#                             rotation_range=10)\n",
    "# dataGen.fit(X_train)"
   ]
  },
  {
   "cell_type": "code",
   "execution_count": 26,
   "id": "f6bd66ae",
   "metadata": {},
   "outputs": [],
   "source": [
    "#OneHotEncoding\n",
    "from keras.utils.np_utils import to_categorical"
   ]
  },
  {
   "cell_type": "code",
   "execution_count": 27,
   "id": "0d5789bb",
   "metadata": {},
   "outputs": [
    {
     "name": "stdout",
     "output_type": "stream",
     "text": [
      "[3 0 5 ... 2 5 0]\n",
      "(13449,)\n"
     ]
    }
   ],
   "source": [
    "print(y_train)\n",
    "print(y_train.shape)\n"
   ]
  },
  {
   "cell_type": "code",
   "execution_count": 28,
   "id": "60403b9d",
   "metadata": {},
   "outputs": [],
   "source": [
    "y_train= to_categorical(y_train, noofClasses)\n",
    "y_test= to_categorical(y_test, noofClasses)\n",
    "y_valid= to_categorical(y_valid, noofClasses)"
   ]
  },
  {
   "cell_type": "code",
   "execution_count": 29,
   "id": "8e28263b",
   "metadata": {},
   "outputs": [
    {
     "name": "stdout",
     "output_type": "stream",
     "text": [
      "[[0. 0. 0. ... 0. 0. 0.]\n",
      " [1. 0. 0. ... 0. 0. 0.]\n",
      " [0. 0. 0. ... 0. 1. 0.]\n",
      " ...\n",
      " [0. 0. 1. ... 0. 0. 0.]\n",
      " [0. 0. 0. ... 0. 1. 0.]\n",
      " [1. 0. 0. ... 0. 0. 0.]]\n",
      "(3334, 7)\n"
     ]
    }
   ],
   "source": [
    "print(y_train)\n",
    "print(y_valid.shape)"
   ]
  },
  {
   "cell_type": "code",
   "execution_count": 30,
   "id": "09a021f3",
   "metadata": {},
   "outputs": [],
   "source": [
    "\n",
    "#mymodelusinglenet\n",
    "def myModel():\n",
    "    noOfFilters=80\n",
    "    sizeOfFilter1=(5,5)\n",
    "    sizeOfFilter2=(3,3)\n",
    "    sizeOfPool=(2,2)\n",
    "    noOfNode =100\n",
    "    model= Sequential()\n",
    "    model.add((Conv2D(noOfFilters,sizeOfFilter1,input_shape=(32,32,1),activation= 'relu')))\n",
    "    model.add((Conv2D(noOfFilters,sizeOfFilter1,activation= 'relu')))\n",
    "    model.add(MaxPooling2D(pool_size=sizeOfPool))\n",
    "    model.add((Conv2D(noOfFilters//2,sizeOfFilter2,activation= 'relu')))\n",
    "    model.add((Conv2D(noOfFilters//2,sizeOfFilter2,activation= 'relu')))\n",
    "    model.add((Conv2D(noOfFilters//2,sizeOfFilter2,activation= 'relu')))\n",
    "    model.add(MaxPooling2D(pool_size=sizeOfPool))\n",
    "    model.add(Dropout(0.2))\n",
    "    model.add(Flatten())\n",
    "    model.add(Dense(noOfNode,activation='relu'))\n",
    "    model.add(Dropout(0.2))\n",
    "    model.add(Dense(noofClasses,activation='softmax'))\n",
    "    model.compile(Adam(learning_rate=0.00001), loss='categorical_crossentropy',metrics=['accuracy'])\n",
    "    return model"
   ]
  },
  {
   "cell_type": "code",
   "execution_count": 31,
   "id": "a4c00cef",
   "metadata": {},
   "outputs": [
    {
     "name": "stdout",
     "output_type": "stream",
     "text": [
      "Model: \"sequential\"\n",
      "_________________________________________________________________\n",
      " Layer (type)                Output Shape              Param #   \n",
      "=================================================================\n",
      " conv2d (Conv2D)             (None, 28, 28, 80)        2080      \n",
      "                                                                 \n",
      " conv2d_1 (Conv2D)           (None, 24, 24, 80)        160080    \n",
      "                                                                 \n",
      " max_pooling2d (MaxPooling2D  (None, 12, 12, 80)       0         \n",
      " )                                                               \n",
      "                                                                 \n",
      " conv2d_2 (Conv2D)           (None, 10, 10, 40)        28840     \n",
      "                                                                 \n",
      " conv2d_3 (Conv2D)           (None, 8, 8, 40)          14440     \n",
      "                                                                 \n",
      " conv2d_4 (Conv2D)           (None, 6, 6, 40)          14440     \n",
      "                                                                 \n",
      " max_pooling2d_1 (MaxPooling  (None, 3, 3, 40)         0         \n",
      " 2D)                                                             \n",
      "                                                                 \n",
      " dropout (Dropout)           (None, 3, 3, 40)          0         \n",
      "                                                                 \n",
      " flatten (Flatten)           (None, 360)               0         \n",
      "                                                                 \n",
      " dense (Dense)               (None, 100)               36100     \n",
      "                                                                 \n",
      " dropout_1 (Dropout)         (None, 100)               0         \n",
      "                                                                 \n",
      " dense_1 (Dense)             (None, 7)                 707       \n",
      "                                                                 \n",
      "=================================================================\n",
      "Total params: 256,687\n",
      "Trainable params: 256,687\n",
      "Non-trainable params: 0\n",
      "_________________________________________________________________\n",
      "None\n"
     ]
    }
   ],
   "source": [
    "model= myModel()\n",
    "print(model.summary())"
   ]
  },
  {
   "cell_type": "code",
   "execution_count": 32,
   "id": "b61dce1f",
   "metadata": {},
   "outputs": [],
   "source": [
    "batchSizeVal=16\n",
    "epochsVal=10"
   ]
  },
  {
   "cell_type": "code",
   "execution_count": 33,
   "id": "beaa474d",
   "metadata": {},
   "outputs": [
    {
     "name": "stdout",
     "output_type": "stream",
     "text": [
      "(13449, 32, 32, 1)\n"
     ]
    }
   ],
   "source": [
    "print(X_train.shape)"
   ]
  },
  {
   "cell_type": "code",
   "execution_count": 34,
   "id": "6340f419",
   "metadata": {},
   "outputs": [],
   "source": [
    "testmodel= keras.models.load_model(\"my_first.h5\")"
   ]
  },
  {
   "cell_type": "code",
   "execution_count": 40,
   "id": "50b89438",
   "metadata": {},
   "outputs": [
    {
     "name": "stdout",
     "output_type": "stream",
     "text": [
      "Epoch 1/10\n",
      "841/841 [==============================] - 7s 8ms/step - loss: 0.5902 - accuracy: 0.7911 - val_loss: 0.6651 - val_accuracy: 0.7835\n",
      "Epoch 2/10\n",
      "841/841 [==============================] - 6s 7ms/step - loss: 0.5839 - accuracy: 0.7931 - val_loss: 0.6799 - val_accuracy: 0.7767\n",
      "Epoch 3/10\n",
      "841/841 [==============================] - 6s 7ms/step - loss: 0.5802 - accuracy: 0.7905 - val_loss: 0.6862 - val_accuracy: 0.7835\n",
      "Epoch 4/10\n",
      "841/841 [==============================] - 6s 7ms/step - loss: 0.5758 - accuracy: 0.7950 - val_loss: 0.6635 - val_accuracy: 0.7817\n",
      "Epoch 5/10\n",
      "841/841 [==============================] - 6s 8ms/step - loss: 0.5762 - accuracy: 0.7975 - val_loss: 0.7041 - val_accuracy: 0.7666\n",
      "Epoch 6/10\n",
      "841/841 [==============================] - 7s 8ms/step - loss: 0.5978 - accuracy: 0.7911 - val_loss: 0.7415 - val_accuracy: 0.7517\n",
      "Epoch 7/10\n",
      "841/841 [==============================] - 7s 8ms/step - loss: 0.5951 - accuracy: 0.7908 - val_loss: 0.7081 - val_accuracy: 0.7612\n",
      "Epoch 8/10\n",
      "841/841 [==============================] - 6s 8ms/step - loss: 0.5549 - accuracy: 0.8061 - val_loss: 0.6991 - val_accuracy: 0.7734\n",
      "Epoch 9/10\n",
      "841/841 [==============================] - 7s 8ms/step - loss: 0.5897 - accuracy: 0.7934 - val_loss: 0.6824 - val_accuracy: 0.7779\n",
      "Epoch 10/10\n",
      "841/841 [==============================] - 6s 8ms/step - loss: 0.5787 - accuracy: 0.7958 - val_loss: 0.7232 - val_accuracy: 0.7484\n"
     ]
    }
   ],
   "source": [
    "history= testmodel.fit(X_train,y_train,epochs=epochsVal,batch_size = batchSizeVal,\n",
    "             validation_data= (X_test, y_test))"
   ]
  },
  {
   "cell_type": "code",
   "execution_count": 41,
   "id": "3b5dccf3",
   "metadata": {},
   "outputs": [
    {
     "name": "stdout",
     "output_type": "stream",
     "text": [
      "209/209 [==============================] - 1s 3ms/step - loss: 2.0946 - accuracy: 0.3968\n",
      "105/105 [==============================] - 0s 3ms/step - loss: 2.0946 - accuracy: 0.3968\n"
     ]
    }
   ],
   "source": [
    "\n",
    "accuracy,loss= testmodel.evaluate(X_valid,y_valid,batch_size= batchSizeVal)\n",
    "score=testmodel.evaluate(X_valid,y_valid)"
   ]
  },
  {
   "cell_type": "code",
   "execution_count": 42,
   "id": "ba86c2d3",
   "metadata": {},
   "outputs": [],
   "source": [
    "testmodel.save(\"my_first.h5\")"
   ]
  },
  {
   "cell_type": "code",
   "execution_count": 43,
   "id": "969b6c02",
   "metadata": {},
   "outputs": [
    {
     "name": "stdout",
     "output_type": "stream",
     "text": [
      "['Test_1.jpg']\n",
      "(1, 32, 32, 3)\n"
     ]
    },
    {
     "data": {
      "image/png": "[encoded data removed]",
      "text/plain": [
       "<Figure size 432x288 with 1 Axes>"
      ]
     },
     "metadata": {
      "needs_background": "light"
     },
     "output_type": "display_data"
    }
   ],
   "source": [
    "testimages=[]\n",
    "testClassNo=[]\n",
    "test_path=\"C:\\\\Users\\\\Dell\\\\Desktop\\\\Minor\\\\test\"\n",
    "nooftest=len(os.listdir(test_path))\n",
    "print(os.listdir(test_path))\n",
    "for x in range (0, nooftest):\n",
    "   myPicList = os.listdir(test_path)\n",
    "   for y in myPicList:\n",
    "       curImg = cv2.imread(test_path+\"/\"+y)\n",
    "       curImg = cv2.resize(curImg, (32,32))\n",
    "       plt.imshow(curImg)\n",
    "\n",
    "       testimages.append(curImg)\n",
    "       testClassNo.append(x)\n",
    "testimages= np.array(testimages)\n",
    "testClassNo=np.array(testClassNo)\n",
    "print (testimages.shape)"
   ]
  },
  {
   "cell_type": "code",
   "execution_count": 44,
   "id": "9f0d433e",
   "metadata": {},
   "outputs": [
    {
     "name": "stdout",
     "output_type": "stream",
     "text": [
      "[[9.9293691e-01 1.1612047e-03 1.6481553e-03 3.7681055e-03 4.3294363e-04\n",
      "  3.6020723e-05 1.6671791e-05]]\n",
      "0\n"
     ]
    },
    {
     "data": {
      "image/png": "[encoded data removed]",
      "text/plain": [
       "<Figure size 432x288 with 1 Axes>"
      ]
     },
     "metadata": {
      "needs_background": "light"
     },
     "output_type": "display_data"
    }
   ],
   "source": [
    "testimages= preProcessing(testimages[0])\n",
    "plt.imshow(testimages)\n",
    "testimages= testimages.reshape(1,testimages.shape[0],testimages.shape[1],1)\n",
    "\n",
    "predictions= testmodel.predict(testimages)\n",
    "print(predictions)\n",
    "probvalue= np.argmax(predictions)\n",
    "print (probvalue)"
   ]
  },
  {
   "cell_type": "code",
   "execution_count": 45,
   "id": "2fd136fe",
   "metadata": {},
   "outputs": [
    {
     "data": {
      "image/png": "[encoded data removed]",
      "text/plain": [
       "<Figure size 432x288 with 1 Axes>"
      ]
     },
     "metadata": {
      "needs_background": "light"
     },
     "output_type": "display_data"
    },
    {
     "data": {
      "image/png": "[encoded data removed]",
      "text/plain": [
       "<Figure size 432x288 with 1 Axes>"
      ]
     },
     "metadata": {
      "needs_background": "light"
     },
     "output_type": "display_data"
    },
    {
     "name": "stdout",
     "output_type": "stream",
     "text": [
      "Test Score = 2.0946218967437744\n",
      "Test Accuracy = 0.39682063460350037\n"
     ]
    }
   ],
   "source": [
    "plt.figure(1)\n",
    "plt.plot(history.history['loss'])\n",
    "plt.plot(history.history['val_loss'])\n",
    "plt.legend(['training','validation'])\n",
    "plt.title('Loss')\n",
    "plt.xlabel('epoch')\n",
    "plt.figure(2)\n",
    "plt.plot(history.history['accuracy'])\n",
    "plt.plot(history.history['val_accuracy'])\n",
    "plt.legend(['training','validation'])\n",
    "plt.title('Accuracy')\n",
    "plt.xlabel('epoch')\n",
    "plt.show()\n",
    "print('Test Score =',score[0])\n",
    "print('Test Accuracy =',score[1])"
   ]
  },
  {
   "cell_type": "code",
   "execution_count": null,
   "id": "98eccf6b",
   "metadata": {},
   "outputs": [],
   "source": []
  },
  {
   "cell_type": "code",
   "execution_count": null,
   "id": "bb0f8469",
   "metadata": {},
   "outputs": [],
   "source": []
  },
  {
   "cell_type": "code",
   "execution_count": null,
   "id": "6e03befa",
   "metadata": {},
   "outputs": [],
   "source": []
  },
  {
   "cell_type": "code",
   "execution_count": null,
   "id": "986d8d92",
   "metadata": {},
   "outputs": [],
   "source": [
    "\n"
   ]
  },
  {
   "cell_type": "code",
   "execution_count": null,
   "id": "48c4aadc",
   "metadata": {},
   "outputs": [],
   "source": []
  },
  {
   "cell_type": "code",
   "execution_count": null,
   "id": "0abbf21b",
   "metadata": {
    "scrolled": true
   },
   "outputs": [],
   "source": [
    "\n"
   ]
  },
  {
   "cell_type": "code",
   "execution_count": null,
   "id": "3472fac2",
   "metadata": {},
   "outputs": [],
   "source": []
  },
  {
   "cell_type": "code",
   "execution_count": null,
   "id": "bbfcee70",
   "metadata": {},
   "outputs": [],
   "source": []
  },
  {
   "cell_type": "code",
   "execution_count": null,
   "id": "6c75e898",
   "metadata": {},
   "outputs": [],
   "source": []
  },
  {
   "cell_type": "code",
   "execution_count": null,
   "id": "708d8a62",
   "metadata": {},
   "outputs": [],
   "source": []
  },
  {
   "cell_type": "code",
   "execution_count": null,
   "id": "11f0b978",
   "metadata": {},
   "outputs": [],
   "source": []
  }
 ],
 "metadata": {
  "kernelspec": {
   "display_name": "Python 3 (ipykernel)",
   "language": "python",
   "name": "python3"
  },
  "language_info": {
   "codemirror_mode": {
    "name": "ipython",
    "version": 3
   },
   "file_extension": ".py",
   "mimetype": "text/x-python",
   "name": "python",
   "nbconvert_exporter": "python",
   "pygments_lexer": "ipython3",
   "version": "3.9.7"
  }
 },
 "nbformat": 4,
 "nbformat_minor": 5
}
